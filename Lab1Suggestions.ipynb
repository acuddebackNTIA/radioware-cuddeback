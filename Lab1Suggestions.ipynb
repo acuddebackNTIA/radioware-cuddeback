{
 "cells": [
  {
   "cell_type": "code",
   "execution_count": 1,
   "id": "59424842",
   "metadata": {},
   "outputs": [],
   "source": [
    "import numpy as np\n",
    "from matplotlib import pyplot as plt"
   ]
  },
  {
   "cell_type": "markdown",
   "id": "11562e87",
   "metadata": {},
   "source": [
    "# Suggested Section on Using numpy Arrays\n",
    "\n",
    "Python is a weakly-typed language. It will try any operation you tell it to on any data type and if it can execute that operation without error it will. In Python, you can add 1 (an integer) to 2.14159 (a double) and get 3.14159, whereas in strongly-typed languages like C++ you would get an error for trying to add two different data types. This makes python a highly flexible language, but it means that you as the user need to be aware of the data types your using to ensure you perform the operations you expect. \n",
    "\n",
    "\n",
    "Numpy is a python library that, along with matplotlib, is used to achieve most of the functionality of [MATLAB](https://www.mathworks.com/products/matlab.html) with free, open-source software. This notebook highlights a few key differences between python lists and numpy arrays, but you can [read more](https://www.geeksforgeeks.org/python-lists-vs-numpy-arrays/) at <https://www.geeksforgeeks.org/python-lists-vs-numpy-arrays/>. The [Numpy User Guide](https://numpy.org/devdocs/user/index.html) also has lots of examples on how to harness numpy's full power. \n",
    "\n",
    "## Python List vs Numpy Array\n",
    "\n",
    "### List/Array representation \n",
    "\n",
    "Python lists and numpy arrays are similar data types and python can convert between them. The code below defines a python list of numbers and creates a numpy array from that list. "
   ]
  },
  {
   "cell_type": "code",
   "execution_count": 2,
   "id": "8c535f62",
   "metadata": {},
   "outputs": [
    {
     "name": "stdout",
     "output_type": "stream",
     "text": [
      "python list:\n",
      " [1, 2, 3, 4, 5] \n",
      "numpy array\n",
      " [1 2 3 4 5]\n"
     ]
    }
   ],
   "source": [
    "pythonlist = [1, 2, 3, 4, 5]\n",
    "numpyarray = np.asarray(pythonlist)\n",
    "print('python list:\\n', pythonlist, '\\nnumpy array\\n', numpyarray)"
   ]
  },
  {
   "cell_type": "markdown",
   "id": "37c995e4",
   "metadata": {},
   "source": [
    "Notice both the python list and numpy array print with each of the elements in the same order, surrounded by brackets. The python list, however, prints with commas between each element and the numpy array does not. This is because python lists are an ordered collection of objects and numpy arrays are matrices. You can technically put any datatype you want into either, but numpy arrays usefulness comes from the ability to easily perform matrix operations on them which are not always defined for non-numeric datatyeps."
   ]
  },
  {
   "cell_type": "code",
   "execution_count": 3,
   "id": "299d1b8e",
   "metadata": {},
   "outputs": [
    {
     "name": "stdout",
     "output_type": "stream",
     "text": [
      "python list:\n",
      " [1, 'a', 'carrrot', 1.618, 0.25] \n",
      "numpy array\n",
      " ['1' 'a' 'carrrot' '1.618' '0.25']\n"
     ]
    }
   ],
   "source": [
    "# I'm not sure if this cell has any pedagogical usefulness but it's kind of interesting\n",
    "pythonlist_notypes = [1, 'a', \"carrrot\", 1.618, 1/4]\n",
    "numpyarray_notypes = np.asarray(pythonlist_notypes)\n",
    "print('python list:\\n', pythonlist_notypes, '\\nnumpy array\\n', numpyarray_notypes)"
   ]
  },
  {
   "cell_type": "markdown",
   "id": "45ecfff4",
   "metadata": {},
   "source": [
    "### List/Array Operations \n",
    "Because python lists are collections and numpy arrays are matrices, the same operator will perform different operations on each of them, and some operations are defined for numpy arrays that are not defined for python lists and vice-versa. Take, for example, the '+' operator. For python lists, '+' denotes concatenation and for numpy arrays '+' denotes vector addition. "
   ]
  },
  {
   "cell_type": "code",
   "execution_count": 4,
   "id": "fcce0879",
   "metadata": {},
   "outputs": [
    {
     "name": "stdout",
     "output_type": "stream",
     "text": [
      "python list2:\n",
      " [0, 1, 2, 3, 4] \n",
      "numpy array2\n",
      " [0 1 2 3 4]\n",
      "\n",
      "RESULT OF'+' OPERATOR ON LISTS VS. ARRAYS\n",
      "python list + list2:\n",
      " [1, 2, 3, 4, 5, 0, 1, 2, 3, 4] \n",
      "numpy array + array2\n",
      " [1 3 5 7 9]\n"
     ]
    }
   ],
   "source": [
    "pythonlist2 = [0, 1, 2, 3, 4]\n",
    "numpyarray2 = np.asarray(pythonlist2)\n",
    "print('python list2:\\n', pythonlist2, '\\nnumpy array2\\n', numpyarray2)\n",
    "print(\"\\nRESULT OF'+' OPERATOR ON LISTS VS. ARRAYS\")\n",
    "pythonlist3 = pythonlist + pythonlist2\n",
    "numpyarray3 = numpyarray + numpyarray2 \n",
    "print('python list + list2:\\n', pythonlist3, '\\nnumpy array + array2\\n', numpyarray3)"
   ]
  },
  {
   "cell_type": "markdown",
   "id": "0e9ad154",
   "metadata": {},
   "source": [
    "## Numpy Array Operations \n",
    "\n",
    "As you may have already realized, mathematical operations performed on numpy arrays are the vector version of those operations. That being said, when the operands passed to these operations are invalid or ambiguous, numpy will make assumptions to perform the operation. \n",
    "\n",
    "This block of code multiplies 5x5 identity matrix by a dimensionless 5-element array and assumes the shape of a column vector necessary to make the operation work."
   ]
  },
  {
   "cell_type": "code",
   "execution_count": 33,
   "id": "fd7cebd7",
   "metadata": {},
   "outputs": [
    {
     "name": "stdout",
     "output_type": "stream",
     "text": [
      "Array with shape (5,) multiplied by 5x5 identity matrix\n",
      "[[1. 0. 0. 0. 0.]\n",
      " [0. 2. 0. 0. 0.]\n",
      " [0. 0. 3. 0. 0.]\n",
      " [0. 0. 0. 4. 0.]\n",
      " [0. 0. 0. 0. 5.]]\n"
     ]
    }
   ],
   "source": [
    "i5 = np.eye(5) # 5x5 identity matrix\n",
    "print(\"Array with shape\", numpyarray.shape, \"multiplied by 5x5 identity matrix\")\n",
    "print(i5*numpyarray)"
   ]
  },
  {
   "cell_type": "markdown",
   "id": "5f3248c6",
   "metadata": {},
   "source": [
    "In the case of the 5-element dimensionless vector, numpy assumes a 5x1 shape so that the operation can be completed. We can also explicity declare the shape to be 5x1 to make the operation valid. "
   ]
  },
  {
   "cell_type": "code",
   "execution_count": 38,
   "id": "366c84bf",
   "metadata": {},
   "outputs": [
    {
     "name": "stdout",
     "output_type": "stream",
     "text": [
      "Array with shape (5, 1) multiplied by 5x5 identity matrix\n",
      "[[1. 0. 0. 0. 0.]\n",
      " [0. 2. 0. 0. 0.]\n",
      " [0. 0. 3. 0. 0.]\n",
      " [0. 0. 0. 4. 0.]\n",
      " [0. 0. 0. 0. 5.]]\n"
     ]
    }
   ],
   "source": [
    "array_col = numpyarray.reshape(5, 1)\n",
    "print(\"Array with shape\", array_col.shape, \"multiplied by 5x5 identity matrix\")\n",
    "print(i5*array_col)"
   ]
  },
  {
   "cell_type": "markdown",
   "id": "448983b9",
   "metadata": {},
   "source": [
    "It makes sense that the (5x5)*(5x1) operation works, that's how matrices are suposed to multiply. Let's see what happens if we try (5x5)*(1x5)"
   ]
  },
  {
   "cell_type": "code",
   "execution_count": 40,
   "id": "600dc0c5",
   "metadata": {},
   "outputs": [
    {
     "name": "stdout",
     "output_type": "stream",
     "text": [
      "Array with shape (1, 5) multiplied by 5x5 identity matrix\n",
      "[[1. 0. 0. 0. 0.]\n",
      " [0. 2. 0. 0. 0.]\n",
      " [0. 0. 3. 0. 0.]\n",
      " [0. 0. 0. 4. 0.]\n",
      " [0. 0. 0. 0. 5.]]\n"
     ]
    }
   ],
   "source": [
    "array_row = numpyarray.reshape(1,5)\n",
    "print(\"Array with shape\", array_row.shape, \"multiplied by 5x5 identity matrix\")\n",
    "print(i5*array_row)"
   ]
  },
  {
   "cell_type": "markdown",
   "id": "a5371a1a",
   "metadata": {},
   "source": [
    "The code block above executes despite the fact that you should not be able to multiply matrices with the dimensions (5x5)*(1x5). This shows that numpy assumes the vector configuration that makes the operation work. While it worked out in this simple case, it is dangerous to assume python will select the correct interpretation of operation and shape when it is ambiguous."
   ]
  },
  {
   "cell_type": "markdown",
   "id": "636b5a4e",
   "metadata": {},
   "source": [
    "## Summary\n",
    "Numpy arrays are a representation of a strict data type in a weakly-typed language. Numpy arrays can be used for complex, n-dimensional operations with appropriate consideration for vector shape. Python will sometimes provide feedback if array shapes are so mismatched that no operation can be performed between them, but you shoudln't count on it. If numpy can make an assumption to translate an invalid expression to a valid one it will do so without comment. You should always know what operations you're trying to perform, the shapes of the vectors on which you are operating, and what your answer should look like. This will enable you to check the validity of your code and avoid silent bugs that ruin your results without any explanation. "
   ]
  },
  {
   "cell_type": "code",
   "execution_count": null,
   "id": "2bf6d0dd",
   "metadata": {},
   "outputs": [],
   "source": []
  },
  {
   "cell_type": "code",
   "execution_count": null,
   "id": "60ff55f0",
   "metadata": {},
   "outputs": [],
   "source": []
  },
  {
   "cell_type": "code",
   "execution_count": null,
   "id": "31366c76",
   "metadata": {},
   "outputs": [],
   "source": []
  }
 ],
 "metadata": {
  "kernelspec": {
   "display_name": "Python 3 (ipykernel)",
   "language": "python",
   "name": "python3"
  },
  "language_info": {
   "codemirror_mode": {
    "name": "ipython",
    "version": 3
   },
   "file_extension": ".py",
   "mimetype": "text/x-python",
   "name": "python",
   "nbconvert_exporter": "python",
   "pygments_lexer": "ipython3",
   "version": "3.9.7"
  }
 },
 "nbformat": 4,
 "nbformat_minor": 5
}
